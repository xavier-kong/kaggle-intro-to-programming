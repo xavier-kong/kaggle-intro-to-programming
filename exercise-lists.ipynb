{
 "cells": [
  {
   "cell_type": "markdown",
   "id": "377708ad",
   "metadata": {
    "papermill": {
     "duration": 0.007678,
     "end_time": "2024-10-06T15:41:04.438434",
     "exception": false,
     "start_time": "2024-10-06T15:41:04.430756",
     "status": "completed"
    },
    "tags": []
   },
   "source": [
    "**This notebook is an exercise in the [Python](https://www.kaggle.com/learn/python) course.  You can reference the tutorial at [this link](https://www.kaggle.com/colinmorris/lists).**\n",
    "\n",
    "---\n"
   ]
  },
  {
   "cell_type": "markdown",
   "id": "b6f42ca8",
   "metadata": {
    "papermill": {
     "duration": 0.006324,
     "end_time": "2024-10-06T15:41:04.451620",
     "exception": false,
     "start_time": "2024-10-06T15:41:04.445296",
     "status": "completed"
    },
    "tags": []
   },
   "source": [
    "Things get more interesting with lists. You'll apply your new knowledge to solve the questions below. Remember to run the following cell first."
   ]
  },
  {
   "cell_type": "code",
   "execution_count": 1,
   "id": "ed8ae94d",
   "metadata": {
    "execution": {
     "iopub.execute_input": "2024-10-06T15:41:04.466786Z",
     "iopub.status.busy": "2024-10-06T15:41:04.466307Z",
     "iopub.status.idle": "2024-10-06T15:41:05.495388Z",
     "shell.execute_reply": "2024-10-06T15:41:05.494211Z"
    },
    "papermill": {
     "duration": 1.040462,
     "end_time": "2024-10-06T15:41:05.498705",
     "exception": false,
     "start_time": "2024-10-06T15:41:04.458243",
     "status": "completed"
    },
    "tags": []
   },
   "outputs": [
    {
     "name": "stdout",
     "output_type": "stream",
     "text": [
      "Setup complete.\n"
     ]
    }
   ],
   "source": [
    "from learntools.core import binder; binder.bind(globals())\n",
    "from learntools.python.ex4 import *\n",
    "print('Setup complete.')"
   ]
  },
  {
   "cell_type": "markdown",
   "id": "228743fd",
   "metadata": {
    "papermill": {
     "duration": 0.006394,
     "end_time": "2024-10-06T15:41:05.512124",
     "exception": false,
     "start_time": "2024-10-06T15:41:05.505730",
     "status": "completed"
    },
    "tags": []
   },
   "source": [
    "# 1.\n",
    "\n",
    "Complete the function below according to its docstring."
   ]
  },
  {
   "cell_type": "code",
   "execution_count": 2,
   "id": "2fba8f8f",
   "metadata": {
    "execution": {
     "iopub.execute_input": "2024-10-06T15:41:05.527806Z",
     "iopub.status.busy": "2024-10-06T15:41:05.527095Z",
     "iopub.status.idle": "2024-10-06T15:41:05.540610Z",
     "shell.execute_reply": "2024-10-06T15:41:05.539398Z"
    },
    "papermill": {
     "duration": 0.02451,
     "end_time": "2024-10-06T15:41:05.543289",
     "exception": false,
     "start_time": "2024-10-06T15:41:05.518779",
     "status": "completed"
    },
    "tags": []
   },
   "outputs": [
    {
     "data": {
      "application/javascript": [
       "parent.postMessage({\"jupyterEvent\": \"custom.exercise_interaction\", \"data\": {\"outcomeType\": 1, \"valueTowardsCompletion\": 0.2, \"interactionType\": 1, \"questionType\": 2, \"questionId\": \"1_SelectSecondItem\", \"learnToolsVersion\": \"0.3.4\", \"failureMessage\": \"\", \"exceptionClass\": \"\", \"trace\": \"\"}}, \"*\")"
      ],
      "text/plain": [
       "<IPython.core.display.Javascript object>"
      ]
     },
     "metadata": {},
     "output_type": "display_data"
    },
    {
     "data": {
      "text/markdown": [
       "<span style=\"color:#33cc33\">Correct</span>"
      ],
      "text/plain": [
       "Correct"
      ]
     },
     "metadata": {},
     "output_type": "display_data"
    }
   ],
   "source": [
    "def select_second(L):\n",
    "    \"\"\"Return the second element of the given list. If the list has no second\n",
    "    element, return None.\n",
    "    \"\"\"\n",
    "    if len(L) > 1:\n",
    "        return L[1]\n",
    "    return None\n",
    "    pass\n",
    "\n",
    "# Check your answer\n",
    "q1.check()"
   ]
  },
  {
   "cell_type": "code",
   "execution_count": 3,
   "id": "ff1e761d",
   "metadata": {
    "execution": {
     "iopub.execute_input": "2024-10-06T15:41:05.560729Z",
     "iopub.status.busy": "2024-10-06T15:41:05.560204Z",
     "iopub.status.idle": "2024-10-06T15:41:05.565864Z",
     "shell.execute_reply": "2024-10-06T15:41:05.564599Z"
    },
    "papermill": {
     "duration": 0.016913,
     "end_time": "2024-10-06T15:41:05.568628",
     "exception": false,
     "start_time": "2024-10-06T15:41:05.551715",
     "status": "completed"
    },
    "tags": []
   },
   "outputs": [],
   "source": [
    "#q1.hint()\n",
    "#q1.solution()"
   ]
  },
  {
   "cell_type": "markdown",
   "id": "40ca1394",
   "metadata": {
    "papermill": {
     "duration": 0.006649,
     "end_time": "2024-10-06T15:41:05.582349",
     "exception": false,
     "start_time": "2024-10-06T15:41:05.575700",
     "status": "completed"
    },
    "tags": []
   },
   "source": [
    "# 2.\n",
    "\n",
    "You are analyzing sports teams.  Members of each team are stored in a list. The Coach is the first name in the list, the captain is the second name in the list, and other players are listed after that. \n",
    "These lists are stored in another list, which starts with the best team and proceeds through the list to the worst team last.  Complete the function below to select the **captain** of the worst team."
   ]
  },
  {
   "cell_type": "code",
   "execution_count": 4,
   "id": "9b5f2671",
   "metadata": {
    "execution": {
     "iopub.execute_input": "2024-10-06T15:41:05.600967Z",
     "iopub.status.busy": "2024-10-06T15:41:05.599892Z",
     "iopub.status.idle": "2024-10-06T15:41:05.611418Z",
     "shell.execute_reply": "2024-10-06T15:41:05.610195Z"
    },
    "papermill": {
     "duration": 0.023125,
     "end_time": "2024-10-06T15:41:05.614170",
     "exception": false,
     "start_time": "2024-10-06T15:41:05.591045",
     "status": "completed"
    },
    "tags": []
   },
   "outputs": [
    {
     "data": {
      "application/javascript": [
       "parent.postMessage({\"jupyterEvent\": \"custom.exercise_interaction\", \"data\": {\"outcomeType\": 1, \"valueTowardsCompletion\": 0.2, \"interactionType\": 1, \"questionType\": 2, \"questionId\": \"2_LosingTeamCaptain\", \"learnToolsVersion\": \"0.3.4\", \"failureMessage\": \"\", \"exceptionClass\": \"\", \"trace\": \"\"}}, \"*\")"
      ],
      "text/plain": [
       "<IPython.core.display.Javascript object>"
      ]
     },
     "metadata": {},
     "output_type": "display_data"
    },
    {
     "data": {
      "text/markdown": [
       "<span style=\"color:#33cc33\">Correct</span>"
      ],
      "text/plain": [
       "Correct"
      ]
     },
     "metadata": {},
     "output_type": "display_data"
    }
   ],
   "source": [
    "def losing_team_captain(teams):\n",
    "    \"\"\"Given a list of teams, where each team is a list of names, return the 2nd player (captain)\n",
    "    from the last listed team\n",
    "    \"\"\"\n",
    "    return teams[-1][1]\n",
    "    pass\n",
    "\n",
    "# Check your answer\n",
    "q2.check()"
   ]
  },
  {
   "cell_type": "code",
   "execution_count": 5,
   "id": "162bd8ee",
   "metadata": {
    "execution": {
     "iopub.execute_input": "2024-10-06T15:41:05.631969Z",
     "iopub.status.busy": "2024-10-06T15:41:05.631521Z",
     "iopub.status.idle": "2024-10-06T15:41:05.636595Z",
     "shell.execute_reply": "2024-10-06T15:41:05.635529Z"
    },
    "papermill": {
     "duration": 0.017173,
     "end_time": "2024-10-06T15:41:05.639188",
     "exception": false,
     "start_time": "2024-10-06T15:41:05.622015",
     "status": "completed"
    },
    "tags": []
   },
   "outputs": [],
   "source": [
    "#q2.hint()\n",
    "#q2.solution()"
   ]
  },
  {
   "cell_type": "markdown",
   "id": "35461b2c",
   "metadata": {
    "papermill": {
     "duration": 0.007353,
     "end_time": "2024-10-06T15:41:05.654389",
     "exception": false,
     "start_time": "2024-10-06T15:41:05.647036",
     "status": "completed"
    },
    "tags": []
   },
   "source": [
    "# 3.\n",
    "\n",
    "The next iteration of Mario Kart will feature an extra-infuriating new item, the *Purple Shell*. When used, it warps the last place racer into first place and the first place racer into last place. Complete the function below to implement the Purple Shell's effect."
   ]
  },
  {
   "cell_type": "code",
   "execution_count": 6,
   "id": "b1cc2c33",
   "metadata": {
    "execution": {
     "iopub.execute_input": "2024-10-06T15:41:05.671579Z",
     "iopub.status.busy": "2024-10-06T15:41:05.671125Z",
     "iopub.status.idle": "2024-10-06T15:41:05.681577Z",
     "shell.execute_reply": "2024-10-06T15:41:05.680530Z"
    },
    "papermill": {
     "duration": 0.022162,
     "end_time": "2024-10-06T15:41:05.684239",
     "exception": false,
     "start_time": "2024-10-06T15:41:05.662077",
     "status": "completed"
    },
    "tags": []
   },
   "outputs": [
    {
     "data": {
      "application/javascript": [
       "parent.postMessage({\"jupyterEvent\": \"custom.exercise_interaction\", \"data\": {\"outcomeType\": 1, \"valueTowardsCompletion\": 0.2, \"interactionType\": 1, \"questionType\": 2, \"questionId\": \"3_PurpleShell\", \"learnToolsVersion\": \"0.3.4\", \"failureMessage\": \"\", \"exceptionClass\": \"\", \"trace\": \"\"}}, \"*\")"
      ],
      "text/plain": [
       "<IPython.core.display.Javascript object>"
      ]
     },
     "metadata": {},
     "output_type": "display_data"
    },
    {
     "data": {
      "text/markdown": [
       "<span style=\"color:#33cc33\">Correct</span>"
      ],
      "text/plain": [
       "Correct"
      ]
     },
     "metadata": {},
     "output_type": "display_data"
    }
   ],
   "source": [
    "def purple_shell(racers):\n",
    "    \"\"\"Given a list of racers, set the first place racer (at the front of the list) to last\n",
    "    place and vice versa.\n",
    "    \n",
    "    >>> r = [\"Mario\", \"Bowser\", \"Luigi\"]\n",
    "    >>> purple_shell(r)\n",
    "    >>> r\n",
    "    [\"Luigi\", \"Bowser\", \"Mario\"]\n",
    "    \"\"\"\n",
    "    racers[0], racers[-1] = racers[-1], racers[0]\n",
    "    pass\n",
    "\n",
    "# Check your answer\n",
    "q3.check()"
   ]
  },
  {
   "cell_type": "code",
   "execution_count": 7,
   "id": "abdeef9d",
   "metadata": {
    "execution": {
     "iopub.execute_input": "2024-10-06T15:41:05.701932Z",
     "iopub.status.busy": "2024-10-06T15:41:05.701508Z",
     "iopub.status.idle": "2024-10-06T15:41:05.707200Z",
     "shell.execute_reply": "2024-10-06T15:41:05.705800Z"
    },
    "papermill": {
     "duration": 0.017796,
     "end_time": "2024-10-06T15:41:05.709905",
     "exception": false,
     "start_time": "2024-10-06T15:41:05.692109",
     "status": "completed"
    },
    "tags": []
   },
   "outputs": [],
   "source": [
    "#q3.hint()\n",
    "#q3.solution()"
   ]
  },
  {
   "cell_type": "markdown",
   "id": "0a6a75b9",
   "metadata": {
    "papermill": {
     "duration": 0.007601,
     "end_time": "2024-10-06T15:41:05.725468",
     "exception": false,
     "start_time": "2024-10-06T15:41:05.717867",
     "status": "completed"
    },
    "tags": []
   },
   "source": [
    "# 4.\n",
    "\n",
    "What are the lengths of the following lists? Fill in the variable `lengths` with your predictions. (Try to make a prediction for each list *without* just calling `len()` on it.)"
   ]
  },
  {
   "cell_type": "code",
   "execution_count": 8,
   "id": "a8e68a1b",
   "metadata": {
    "execution": {
     "iopub.execute_input": "2024-10-06T15:41:05.745654Z",
     "iopub.status.busy": "2024-10-06T15:41:05.745207Z",
     "iopub.status.idle": "2024-10-06T15:41:05.757442Z",
     "shell.execute_reply": "2024-10-06T15:41:05.756095Z"
    },
    "papermill": {
     "duration": 0.026928,
     "end_time": "2024-10-06T15:41:05.760301",
     "exception": false,
     "start_time": "2024-10-06T15:41:05.733373",
     "status": "completed"
    },
    "tags": []
   },
   "outputs": [
    {
     "data": {
      "application/javascript": [
       "parent.postMessage({\"jupyterEvent\": \"custom.exercise_interaction\", \"data\": {\"outcomeType\": 4, \"interactionType\": 1, \"questionType\": 1, \"questionId\": \"4_UnderstandLen\", \"learnToolsVersion\": \"0.3.4\", \"valueTowardsCompletion\": 0.0, \"failureMessage\": \"\", \"exceptionClass\": \"\", \"trace\": \"\"}}, \"*\")"
      ],
      "text/plain": [
       "<IPython.core.display.Javascript object>"
      ]
     },
     "metadata": {},
     "output_type": "display_data"
    },
    {
     "data": {
      "text/markdown": [
       "<span style=\"color:#ccaa33\">Check:</span> When you've updated the starter code, `check()` will tell you whether your code is correct. You need to update the code that creates variable `lengths`"
      ],
      "text/plain": [
       "Check: When you've updated the starter code, `check()` will tell you whether your code is correct. You need to update the code that creates variable `lengths`"
      ]
     },
     "metadata": {},
     "output_type": "display_data"
    }
   ],
   "source": [
    "a = [1, 2, 3]\n",
    "b = [1, [2, 3]]\n",
    "c = []\n",
    "d = [1, 2, 3][1:]\n",
    "\n",
    "# Put your predictions in the list below. Lengths should contain 4 numbers, the\n",
    "# first being the length of a, the second being the length of b and so on.\n",
    "lengths = []\n",
    "\n",
    "# Check your answer\n",
    "q4.check()"
   ]
  },
  {
   "cell_type": "code",
   "execution_count": 9,
   "id": "ae4a50f1",
   "metadata": {
    "execution": {
     "iopub.execute_input": "2024-10-06T15:41:05.779123Z",
     "iopub.status.busy": "2024-10-06T15:41:05.778656Z",
     "iopub.status.idle": "2024-10-06T15:41:05.783836Z",
     "shell.execute_reply": "2024-10-06T15:41:05.782730Z"
    },
    "papermill": {
     "duration": 0.017918,
     "end_time": "2024-10-06T15:41:05.786675",
     "exception": false,
     "start_time": "2024-10-06T15:41:05.768757",
     "status": "completed"
    },
    "tags": []
   },
   "outputs": [],
   "source": [
    "# line below provides some explanation\n",
    "#q4.solution()"
   ]
  },
  {
   "cell_type": "markdown",
   "id": "f2ed13d7",
   "metadata": {
    "papermill": {
     "duration": 0.007741,
     "end_time": "2024-10-06T15:41:05.803106",
     "exception": false,
     "start_time": "2024-10-06T15:41:05.795365",
     "status": "completed"
    },
    "tags": []
   },
   "source": [
    "# 5. <span title=\"A bit spicy\" style=\"color: darkgreen \">🌶️</span>\n",
    "\n",
    "We're using lists to record people who attended our party and what order they arrived in. For example, the following list represents a party with 7 guests, in which Adela showed up first and Ford was the last to arrive:\n",
    "\n",
    "    party_attendees = ['Adela', 'Fleda', 'Owen', 'May', 'Mona', 'Gilbert', 'Ford']\n",
    "\n",
    "A guest is considered 'fashionably late' if they arrived after at least half of the party's guests. However, they must not be the very last guest (that's taking it too far). In the above example, Mona and Gilbert are the only guests who were fashionably late.\n",
    "\n",
    "Complete the function below which takes a list of party attendees as well as a person, and tells us whether that person is fashionably late."
   ]
  },
  {
   "cell_type": "code",
   "execution_count": 10,
   "id": "9b87d16d",
   "metadata": {
    "execution": {
     "iopub.execute_input": "2024-10-06T15:41:05.821207Z",
     "iopub.status.busy": "2024-10-06T15:41:05.820692Z",
     "iopub.status.idle": "2024-10-06T15:41:05.831795Z",
     "shell.execute_reply": "2024-10-06T15:41:05.830630Z"
    },
    "papermill": {
     "duration": 0.02353,
     "end_time": "2024-10-06T15:41:05.834547",
     "exception": false,
     "start_time": "2024-10-06T15:41:05.811017",
     "status": "completed"
    },
    "tags": []
   },
   "outputs": [
    {
     "data": {
      "application/javascript": [
       "parent.postMessage({\"jupyterEvent\": \"custom.exercise_interaction\", \"data\": {\"outcomeType\": 4, \"interactionType\": 1, \"questionType\": 2, \"questionId\": \"5_FashionablyLate\", \"learnToolsVersion\": \"0.3.4\", \"valueTowardsCompletion\": 0.0, \"failureMessage\": \"\", \"exceptionClass\": \"\", \"trace\": \"\"}}, \"*\")"
      ],
      "text/plain": [
       "<IPython.core.display.Javascript object>"
      ]
     },
     "metadata": {},
     "output_type": "display_data"
    },
    {
     "data": {
      "text/markdown": [
       "<span style=\"color:#ccaa33\">Check:</span> When you've updated the starter code, `check()` will tell you whether your code is correct. "
      ],
      "text/plain": [
       "Check: When you've updated the starter code, `check()` will tell you whether your code is correct. "
      ]
     },
     "metadata": {},
     "output_type": "display_data"
    }
   ],
   "source": [
    "def fashionably_late(arrivals, name):\n",
    "    \"\"\"Given an ordered list of arrivals to the party and a name, return whether the guest with that\n",
    "    name was fashionably late.\n",
    "    \"\"\"\n",
    "    pass\n",
    "\n",
    "# Check your answer\n",
    "q5.check()"
   ]
  },
  {
   "cell_type": "code",
   "execution_count": 11,
   "id": "7bf69898",
   "metadata": {
    "execution": {
     "iopub.execute_input": "2024-10-06T15:41:05.853815Z",
     "iopub.status.busy": "2024-10-06T15:41:05.853302Z",
     "iopub.status.idle": "2024-10-06T15:41:05.858894Z",
     "shell.execute_reply": "2024-10-06T15:41:05.857585Z"
    },
    "papermill": {
     "duration": 0.018396,
     "end_time": "2024-10-06T15:41:05.861638",
     "exception": false,
     "start_time": "2024-10-06T15:41:05.843242",
     "status": "completed"
    },
    "tags": []
   },
   "outputs": [],
   "source": [
    "#q5.hint()\n",
    "#q5.solution()"
   ]
  },
  {
   "cell_type": "markdown",
   "id": "39ff6070",
   "metadata": {
    "papermill": {
     "duration": 0.007884,
     "end_time": "2024-10-06T15:41:05.877716",
     "exception": false,
     "start_time": "2024-10-06T15:41:05.869832",
     "status": "completed"
    },
    "tags": []
   },
   "source": [
    "# Keep Going\n",
    "\n",
    "That's it for lists and tuples! Now you have the baseline knowledge to **[learn about loops](https://www.kaggle.com/colinmorris/loops-and-list-comprehensions)**, which is where lists and tuples get really interesting. "
   ]
  },
  {
   "cell_type": "markdown",
   "id": "181d658d",
   "metadata": {
    "papermill": {
     "duration": 0.00791,
     "end_time": "2024-10-06T15:41:05.893940",
     "exception": false,
     "start_time": "2024-10-06T15:41:05.886030",
     "status": "completed"
    },
    "tags": []
   },
   "source": [
    "---\n",
    "\n",
    "\n",
    "\n",
    "\n",
    "*Have questions or comments? Visit the [course discussion forum](https://www.kaggle.com/learn/python/discussion) to chat with other learners.*"
   ]
  }
 ],
 "metadata": {
  "kaggle": {
   "accelerator": "none",
   "dataSources": [],
   "isGpuEnabled": false,
   "isInternetEnabled": false,
   "language": "python",
   "sourceType": "notebook"
  },
  "kernelspec": {
   "display_name": "Python 3",
   "language": "python",
   "name": "python3"
  },
  "language_info": {
   "codemirror_mode": {
    "name": "ipython",
    "version": 3
   },
   "file_extension": ".py",
   "mimetype": "text/x-python",
   "name": "python",
   "nbconvert_exporter": "python",
   "pygments_lexer": "ipython3",
   "version": "3.10.14"
  },
  "learntools_metadata": {
   "lesson_index": 3,
   "type": "exercise"
  },
  "papermill": {
   "default_parameters": {},
   "duration": 5.275137,
   "end_time": "2024-10-06T15:41:06.524436",
   "environment_variables": {},
   "exception": null,
   "input_path": "__notebook__.ipynb",
   "output_path": "__notebook__.ipynb",
   "parameters": {},
   "start_time": "2024-10-06T15:41:01.249299",
   "version": "2.6.0"
  }
 },
 "nbformat": 4,
 "nbformat_minor": 5
}
